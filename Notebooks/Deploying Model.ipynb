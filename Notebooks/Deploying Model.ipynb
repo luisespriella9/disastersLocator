{
 "cells": [
  {
   "cell_type": "code",
   "execution_count": 1,
   "metadata": {},
   "outputs": [],
   "source": [
    "%config IPCompleted.greedy = True"
   ]
  },
  {
   "cell_type": "markdown",
   "metadata": {},
   "source": [
    "# Import Libraries"
   ]
  },
  {
   "cell_type": "code",
   "execution_count": 2,
   "metadata": {},
   "outputs": [],
   "source": [
    "import os\n",
    "import json\n",
    "from azureml.core import Environment, Workspace\n",
    "from azureml.core.compute import AmlCompute, ComputeTarget\n",
    "from azureml.core.image import ContainerImage\n",
    "from azureml.core.model import InferenceConfig, Model\n",
    "from azureml.core.webservice import AciWebservice, Webservice\n",
    "from sklearn.metrics import accuracy_score, confusion_matrix\n",
    "from pathlib import Path"
   ]
  },
  {
   "cell_type": "markdown",
   "metadata": {},
   "source": [
    "# Get Workspace"
   ]
  },
  {
   "cell_type": "code",
   "execution_count": 3,
   "metadata": {},
   "outputs": [
    {
     "data": {
      "text/plain": [
       "{'id': '/subscriptions/1f3811a0-1fb9-4d43-974c-8c7bdc025d92/resourceGroups/disasterLocator/providers/Microsoft.MachineLearningServices/workspaces/disasterLocatorML',\n",
       " 'name': 'disasterLocatorML',\n",
       " 'location': 'eastus',\n",
       " 'type': 'Microsoft.MachineLearningServices/workspaces',\n",
       " 'tags': {},\n",
       " 'sku': 'Basic',\n",
       " 'workspaceid': '90beb71e-3575-4cbd-af2a-cb2c303edc7b',\n",
       " 'description': '',\n",
       " 'friendlyName': 'disasterLocatorML',\n",
       " 'creationTime': '2020-11-11T14:39:30.8601986+00:00',\n",
       " 'containerRegistry': '/subscriptions/1f3811a0-1fb9-4d43-974c-8c7bdc025d92/resourceGroups/disasterLocator/providers/Microsoft.ContainerRegistry/registries/90beb71e35754cbdaf2acb2c303edc7b',\n",
       " 'keyVault': '/subscriptions/1f3811a0-1fb9-4d43-974c-8c7bdc025d92/resourcegroups/disasterlocator/providers/microsoft.keyvault/vaults/disasterlocato9806975694',\n",
       " 'applicationInsights': '/subscriptions/1f3811a0-1fb9-4d43-974c-8c7bdc025d92/resourcegroups/disasterlocator/providers/microsoft.insights/components/disasterlocato5776021600',\n",
       " 'identityPrincipalId': 'ffd7eac5-c771-422b-8080-675c5d58b978',\n",
       " 'identityTenantId': 'b2cc71a7-45cf-49fe-b78c-a7d1913afbfb',\n",
       " 'identityType': 'SystemAssigned',\n",
       " 'storageAccount': '/subscriptions/1f3811a0-1fb9-4d43-974c-8c7bdc025d92/resourcegroups/disasterlocator/providers/microsoft.storage/storageaccounts/disasterlocato4377676546',\n",
       " 'hbiWorkspace': False,\n",
       " 'discoveryUrl': 'https://eastus.experiments.azureml.net/discovery',\n",
       " 'notebookInfo': {'fqdn': 'ml-disasterlocatorm-eastus-90beb71e-3575-4cbd-af2a-cb2c303edc7b.notebooks.azure.net',\n",
       "  'resource_id': 'f17d49a4f9de44f9b8500ef5fd322cd7'}}"
      ]
     },
     "execution_count": 3,
     "metadata": {},
     "output_type": "execute_result"
    }
   ],
   "source": [
    "ws = Workspace.from_config()\n",
    "ws.get_details()"
   ]
  },
  {
   "cell_type": "markdown",
   "metadata": {},
   "source": [
    "# Define Environment"
   ]
  },
  {
   "cell_type": "code",
   "execution_count": 4,
   "metadata": {},
   "outputs": [],
   "source": [
    "keras_env = Environment.from_conda_specification(name='keras-env', file_path='../conda_dependencies.yml')"
   ]
  },
  {
   "cell_type": "markdown",
   "metadata": {},
   "source": [
    "# Create Configuration"
   ]
  },
  {
   "cell_type": "code",
   "execution_count": 5,
   "metadata": {},
   "outputs": [],
   "source": [
    "deployment_config = AciWebservice.deploy_configuration(cpu_cores=1, \n",
    "                                               memory_gb=1, \n",
    "                                               tags={\"data\": \"Tweets\",  \"method\" : \"keras\"}, \n",
    "                                               description='Predict Disaster from Tweets with keras')"
   ]
  },
  {
   "cell_type": "markdown",
   "metadata": {},
   "source": [
    "# Define an inference configuration"
   ]
  },
  {
   "cell_type": "code",
   "execution_count": 6,
   "metadata": {},
   "outputs": [],
   "source": [
    "script_folder = os.path.join(Path(os.getcwd()).resolve().parent, 'src')\n",
    "inference_config = InferenceConfig(source_directory=script_folder, entry_script='scoring.py', environment=keras_env)"
   ]
  },
  {
   "cell_type": "markdown",
   "metadata": {},
   "source": [
    "# Retrieve the Model"
   ]
  },
  {
   "cell_type": "code",
   "execution_count": 7,
   "metadata": {},
   "outputs": [],
   "source": [
    "model = Model(ws, 'disaster_predictor_cnn')"
   ]
  },
  {
   "cell_type": "markdown",
   "metadata": {},
   "source": [
    "# Deploy Model"
   ]
  },
  {
   "cell_type": "code",
   "execution_count": 8,
   "metadata": {},
   "outputs": [
    {
     "name": "stdout",
     "output_type": "stream",
     "text": [
      "Tips: You can try get_logs(): https://aka.ms/debugimage#dockerlog or local deployment: https://aka.ms/debugimage#debug-locally to debug if deployment takes longer than 10 minutes.\n",
      "Running......\n",
      "Succeeded\n",
      "ACI service creation operation finished, operation \"Succeeded\"\n"
     ]
    }
   ],
   "source": [
    "service = Model.deploy(\n",
    "            workspace = ws,\n",
    "            name = \"disaster-predictor-cnn\",\n",
    "            models = [model],\n",
    "            inference_config = inference_config,\n",
    "            deployment_config = deployment_config,\n",
    "            overwrite=True)\n",
    "\n",
    "service.wait_for_deployment(show_output=True)"
   ]
  },
  {
   "cell_type": "code",
   "execution_count": 10,
   "metadata": {},
   "outputs": [
    {
     "data": {
      "text/plain": [
       "'http://81e09d9c-2563-4a38-be07-45610754431e.eastus.azurecontainer.io/score'"
      ]
     },
     "execution_count": 10,
     "metadata": {},
     "output_type": "execute_result"
    }
   ],
   "source": [
    "service.scoring_uri"
   ]
  },
  {
   "cell_type": "markdown",
   "metadata": {},
   "source": [
    "# Test deployed Service"
   ]
  },
  {
   "cell_type": "code",
   "execution_count": 11,
   "metadata": {},
   "outputs": [],
   "source": [
    "from azureml.core import Dataset\n",
    "\n",
    "# get data\n",
    "dataset = Dataset.get_by_name(ws, name='disaster_tweets_train')\n",
    "tweets_pd = dataset.to_pandas_dataframe()\n",
    "tweets_pd.dropna(inplace=True)\n",
    "\n",
    "# test with n samples\n",
    "n = 30\n",
    "tweets_sample = tweets_pd.sample(int(len(tweets_pd)*0.4))\n",
    "X_test = tweets_pd.sample(30)['text'].values\n",
    "y_test = tweets_pd.sample(30)['target'].values\n",
    "\n",
    "test_samples = json.dumps({\"data\": X_test.tolist()})\n",
    "test_samples = bytes(test_samples, encoding='utf8')\n",
    "\n",
    "# predict\n",
    "results = service.run(input_data=test_samples)\n",
    "results = [0 if result < 0.5 else 1 for result in results]"
   ]
  },
  {
   "cell_type": "code",
   "execution_count": 12,
   "metadata": {},
   "outputs": [
    {
     "data": {
      "text/plain": [
       "0.36666666666666664"
      ]
     },
     "execution_count": 12,
     "metadata": {},
     "output_type": "execute_result"
    }
   ],
   "source": [
    "accuracy_score(y_test, results)"
   ]
  },
  {
   "cell_type": "code",
   "execution_count": 13,
   "metadata": {},
   "outputs": [
    {
     "data": {
      "text/plain": [
       "array([[ 7,  6],\n",
       "       [13,  4]], dtype=int64)"
      ]
     },
     "execution_count": 13,
     "metadata": {},
     "output_type": "execute_result"
    }
   ],
   "source": [
    "confusion_matrix(y_test, results)"
   ]
  },
  {
   "cell_type": "markdown",
   "metadata": {},
   "source": [
    "# Test with Custom Sample"
   ]
  },
  {
   "cell_type": "code",
   "execution_count": 14,
   "metadata": {},
   "outputs": [
    {
     "name": "stdout",
     "output_type": "stream",
     "text": [
      "no disaster\n"
     ]
    }
   ],
   "source": [
    "custom_sample = json.dumps({\"data\": [\"Flooding in Arizona\"]})\n",
    "custom_sample = bytes(custom_sample, encoding='utf8')\n",
    "custom_result = service.run(input_data=custom_sample)\n",
    "if custom_result[0]==1:\n",
    "    print(\"disaster!\")\n",
    "else:\n",
    "    print(\"no disaster\")"
   ]
  },
  {
   "cell_type": "code",
   "execution_count": 17,
   "metadata": {},
   "outputs": [
    {
     "name": "stdout",
     "output_type": "stream",
     "text": [
      "no disaster\n"
     ]
    }
   ],
   "source": [
    "custom_sample = json.dumps({\"data\": [\"20 dead after Earthquake\"]})\n",
    "custom_sample = bytes(custom_sample, encoding='utf8')\n",
    "custom_result = service.run(input_data=custom_sample)\n",
    "if custom_result[0]==1:\n",
    "    print(\"disaster!\")\n",
    "else:\n",
    "    print(\"no disaster\")"
   ]
  }
 ],
 "metadata": {
  "kernelspec": {
   "display_name": "Python 3",
   "language": "python",
   "name": "python3"
  },
  "language_info": {
   "codemirror_mode": {
    "name": "ipython",
    "version": 3
   },
   "file_extension": ".py",
   "mimetype": "text/x-python",
   "name": "python",
   "nbconvert_exporter": "python",
   "pygments_lexer": "ipython3",
   "version": "3.7.9"
  }
 },
 "nbformat": 4,
 "nbformat_minor": 4
}
